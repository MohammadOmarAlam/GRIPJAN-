{
 "cells": [
  {
   "cell_type": "markdown",
   "metadata": {},
   "source": [
    "Importing required files\n"
   ]
  },
  {
   "cell_type": "code",
   "execution_count": 2,
   "metadata": {},
   "outputs": [],
   "source": [
    "import pandas as pd\n",
    "import numpy as np  \n",
    "import matplotlib.pyplot as plt  \n",
    "%matplotlib inline\n",
    "from sklearn.linear_model import LinearRegression\n",
    "from sklearn.model_selection import train_test_split\n",
    "from sklearn import metrics \n",
    "from sklearn.linear_model import Ridge\n",
    "from sklearn.linear_model import Lasso"
   ]
  },
  {
   "cell_type": "markdown",
   "metadata": {},
   "source": [
    "Reading data"
   ]
  },
  {
   "cell_type": "code",
   "execution_count": 3,
   "metadata": {},
   "outputs": [],
   "source": [
    "df = pd.read_csv(\"http://bit.ly/w-data\")\n",
    "X = df[\"Hours\"].values                  # Converting dataframe column to an array. This will serve as the independent variable\n",
    "X=X.reshape((-1, 1))                    # Reshaping for \n",
    "y = df[\"Scores\"].values                 # Converting dataframe column to an array. This will serve as the dependent variable          "
   ]
  },
  {
   "cell_type": "code",
   "execution_count": 4,
   "metadata": {},
   "outputs": [
    {
     "name": "stdout",
     "output_type": "stream",
     "text": [
      "[[1.         0.97619066]\n",
      " [0.97619066 1.        ]]\n"
     ]
    },
    {
     "data": {
      "image/png": "[encoded data removed]",
      "text/plain": [
       "<Figure size 432x288 with 1 Axes>"
      ]
     },
     "metadata": {
      "needs_background": "light"
     },
     "output_type": "display_data"
    }
   ],
   "source": [
    "\n",
    "x = df[\"Hours\"]\n",
    "y = df[\"Scores\"]\n",
    "\n",
    "print(np.corrcoef(x, y))\n",
    "\n",
    "plt.scatter(x, y) \n",
    "plt.title('A plot to show the correlation between hours and scores')\n",
    "plt.xlabel('Hours')\n",
    "plt.ylabel('Marks')\n",
    "plt.plot(np.unique(x), np.poly1d(np.polyfit(x, y, 1))(np.unique(x)), color='yellow')\n",
    "plt.show()"
   ]
  },
  {
   "cell_type": "markdown",
   "metadata": {},
   "source": [
    "From the graph and pearson correlation we can clearly deduce that there is a positive corelation between marks and time"
   ]
  },
  {
   "cell_type": "markdown",
   "metadata": {},
   "source": [
    "Now we can build a modal. We start by splitting data into two parts. One for training and the other for testing"
   ]
  },
  {
   "cell_type": "code",
   "execution_count": 5,
   "metadata": {},
   "outputs": [],
   "source": [
    "X_train, X_test, y_train, y_test = train_test_split(X, y,test_size=0.2, random_state=0) "
   ]
  },
  {
   "cell_type": "markdown",
   "metadata": {},
   "source": [
    "Fitting in a simple linear regression model we get"
   ]
  },
  {
   "cell_type": "code",
   "execution_count": 6,
   "metadata": {},
   "outputs": [
    {
     "data": {
      "text/plain": [
       "LinearRegression()"
      ]
     },
     "execution_count": 6,
     "metadata": {},
     "output_type": "execute_result"
    }
   ],
   "source": [
    "modelLR = LinearRegression()\n",
    "\n",
    "modelLR.fit(X_train, y_train) "
   ]
  },
  {
   "cell_type": "code",
   "execution_count": 7,
   "metadata": {},
   "outputs": [
    {
     "name": "stdout",
     "output_type": "stream",
     "text": [
      "Mean Absolute Error: 4.183859899002975\n"
     ]
    }
   ],
   "source": [
    "y_pred = modelLR.predict(X_test) # Predicting the scores\n",
    "df = pd.DataFrame({'Actual': y_test, 'Predicted': y_pred})  \n",
    "print('Mean Absolute Error:', \n",
    "      metrics.mean_absolute_error(y_test, y_pred)) \n",
    "s1=metrics.mean_absolute_error(y_test, y_pred)"
   ]
  },
  {
   "cell_type": "markdown",
   "metadata": {},
   "source": [
    "Next we build a Ridge regression model. It simply adds a penalty so that we donot overfit our model. The value of alpha must be determined for best results"
   ]
  },
  {
   "cell_type": "code",
   "execution_count": 8,
   "metadata": {},
   "outputs": [
    {
     "name": "stdout",
     "output_type": "stream",
     "text": [
      "Mean Absolute Error: 4.0893423672211195\n",
      "Mean Absolute Error: 3.99633027522936\n",
      "Mean Absolute Error: 3.9047879400796432\n",
      "Mean Absolute Error: 3.8146807976922106\n",
      "Mean Absolute Error: 3.725975359342921\n",
      "Mean Absolute Error: 3.6386391701654746\n",
      "Mean Absolute Error: 3.5526407695606936\n",
      "Mean Absolute Error: 3.4679496534111665\n",
      "Mean Absolute Error: 3.3845362380061603\n",
      "Mean Absolute Error: 3.3023718255869667\n",
      "Mean Absolute Error: 3.221428571428575\n",
      "Mean Absolute Error: 3.2077127345686294\n",
      "Mean Absolute Error: 3.2280856423173816\n"
     ]
    }
   ],
   "source": [
    "x=1.0               #Starting value\n",
    "Ralpha={}\n",
    "\n",
    "\n",
    "while True:\n",
    "    modelR = Ridge(alpha=x)\n",
    "    modelR.fit(X_train, y_train) \n",
    "    \n",
    "    y_pred = modelR.predict(X_test) # Predicting the scores\n",
    "    df = pd.DataFrame({'Actual': y_test, 'Predicted': y_pred})  \n",
    "    m=metrics.mean_absolute_error(y_test, y_pred)\n",
    "    print('Mean Absolute Error:', m)\n",
    "    y=x-1\n",
    "    if x==1:\n",
    "        Ralpha[x]=m\n",
    "        \n",
    "    elif m<Ralpha[y]:\n",
    "        Ralpha[x]=m\n",
    "    else:\n",
    "        break                     # If the model isn't improving anymore the loop breaks\n",
    "    x=x+1\n",
    "f = min(Ralpha.values())\n",
    "for k, v in Ralpha.items():\n",
    "    if v==f:\n",
    "        alpha=k\n"
   ]
  },
  {
   "cell_type": "markdown",
   "metadata": {},
   "source": [
    "checking if the model can be improved further"
   ]
  },
  {
   "cell_type": "code",
   "execution_count": 10,
   "metadata": {},
   "outputs": [
    {
     "name": "stdout",
     "output_type": "stream",
     "text": [
      "Training complete.\n"
     ]
    }
   ],
   "source": [
    "f = min(Ralpha.values())\n",
    "for k, v in Ralpha.items():\n",
    "    if v==f:\n",
    "        alpha=k\n",
    "\n",
    "modelL= Ridge(alpha=alpha+0.01)       \n",
    "modelL.fit(X_train, y_train) \n",
    "y_pred = modelL.predict(X_test) # Predicting the scores\n",
    "df = pd.DataFrame({'Actual': y_test, 'Predicted': y_pred})  \n",
    "\n",
    "if f>metrics.mean_absolute_error(y_test, y_pred):\n",
    "    alpha=alpha+0.01"
   ]
  },
  {
   "cell_type": "code",
   "execution_count": 11,
   "metadata": {},
   "outputs": [
    {
     "name": "stdout",
     "output_type": "stream",
     "text": [
      "12.0\n"
     ]
    }
   ],
   "source": [
    "print(alpha)"
   ]
  },
  {
   "cell_type": "code",
   "execution_count": 12,
   "metadata": {},
   "outputs": [
    {
     "name": "stdout",
     "output_type": "stream",
     "text": [
      "Training complete.\n",
      "Mean Absolute Error: 3.9915771073417106\n",
      "Training complete.\n",
      "Mean Absolute Error: 3.799294315680439\n",
      "Training complete.\n",
      "Mean Absolute Error: 3.6070115240191654\n",
      "Training complete.\n",
      "Mean Absolute Error: 3.4147287323578936\n",
      "Training complete.\n",
      "Mean Absolute Error: 3.2224459406966233\n",
      "Training complete.\n",
      "Mean Absolute Error: 3.236624368768614\n"
     ]
    }
   ],
   "source": [
    "x=1.0\n",
    "Lalpha={}\n",
    "\n",
    "while True:\n",
    "    modelR = Lasso(alpha=x)\n",
    "    modelR.fit(X_train, y_train) \n",
    "    print(\"Training complete.\")\n",
    "    y_pred = modelR.predict(X_test) # Predicting the scores\n",
    "    df = pd.DataFrame({'Actual': y_test, 'Predicted': y_pred})  \n",
    "    m=metrics.mean_absolute_error(y_test, y_pred)\n",
    "    print('Mean Absolute Error:', m) \n",
    "    y=x-1\n",
    "    if x==1:\n",
    "        Lalpha[x]=m\n",
    "        \n",
    "    elif m<Lalpha[y]:\n",
    "        Lalpha[x]=m\n",
    "    else:\n",
    "        break\n",
    "    x=x+1\n",
    "e = min(Lalpha.values())\n",
    "for k, v in Lalpha.items():\n",
    "    if v==e:\n",
    "        alpha2=k"
   ]
  },
  {
   "cell_type": "code",
   "execution_count": 14,
   "metadata": {},
   "outputs": [
    {
     "name": "stdout",
     "output_type": "stream",
     "text": [
      "5.0\n"
     ]
    }
   ],
   "source": [
    "for k, v in Lalpha.items():\n",
    "    if v==e:\n",
    "        alpha2=k\n",
    "\n",
    "modelL= Lasso(alpha=alpha2+0.01)       \n",
    "modelL.fit(X_train, y_train) \n",
    "y_pred = modelL.predict(X_test) # Predicting the scores\n",
    "df = pd.DataFrame({'Actual': y_test, 'Predicted': y_pred})  \n",
    "\n",
    "if f>metrics.mean_absolute_error(y_test, y_pred):\n",
    "    alpha2=alpha2+0.01\n",
    "print(alpha2)"
   ]
  },
  {
   "cell_type": "markdown",
   "metadata": {},
   "source": [
    "Checking which model is best"
   ]
  },
  {
   "cell_type": "code",
   "execution_count": 16,
   "metadata": {},
   "outputs": [
    {
     "name": "stdout",
     "output_type": "stream",
     "text": [
      "Ridge\n"
     ]
    }
   ],
   "source": [
    "if f>e:\n",
    "    print(\"Lasso\")\n",
    "else:\n",
    "    print(\"Ridge\")"
   ]
  },
  {
   "cell_type": "markdown",
   "metadata": {},
   "source": [
    "Hence ridge regression is the best possible model"
   ]
  },
  {
   "cell_type": "code",
   "execution_count": 17,
   "metadata": {},
   "outputs": [
    {
     "name": "stdout",
     "output_type": "stream",
     "text": [
      "If the student studies for 6.125 hours, he is expected to score 61.861\n"
     ]
    }
   ],
   "source": [
    "t = [6.125]\n",
    "answer = modelR.predict([t])\n",
    "print(\"If the student studies for 6.125 hours, he is expected to score {}\".format(round(answer[0],3)))"
   ]
  },
  {
   "cell_type": "code",
   "execution_count": null,
   "metadata": {},
   "outputs": [],
   "source": []
  }
 ],
 "metadata": {
  "kernelspec": {
   "display_name": "Python 3",
   "language": "python",
   "name": "python3"
  },
  "language_info": {
   "codemirror_mode": {
    "name": "ipython",
    "version": 3
   },
   "file_extension": ".py",
   "mimetype": "text/x-python",
   "name": "python",
   "nbconvert_exporter": "python",
   "pygments_lexer": "ipython3",
   "version": "3.8.3"
  }
 },
 "nbformat": 4,
 "nbformat_minor": 4
}
